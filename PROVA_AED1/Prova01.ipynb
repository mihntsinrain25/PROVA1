{
 "cells": [
  {
   "cell_type": "code",
   "execution_count": 61,
   "id": "7ee0a98e-6434-47c5-bd9f-01d352fefe3c",
   "metadata": {},
   "outputs": [
    {
     "name": "stdin",
     "output_type": "stream",
     "text": [
      "Digite um valor inteiro positivo:  5\n",
      "Digite um valor inteiro positivo:  7\n",
      "Digite um valor inteiro positivo:  9\n"
     ]
    },
    {
     "name": "stdout",
     "output_type": "stream",
     "text": [
      "A média dos dois maiores valores é: 8.0\n"
     ]
    }
   ],
   "source": [
    "n1 = int(input(\"Digite um valor inteiro positivo: \"))\n",
    "n2 = int(input(\"Digite um valor inteiro positivo: \"))\n",
    "n3 = int(input(\"Digite um valor inteiro positivo: \"))\n",
    "\n",
    "maior = max(n1, n2, n3)\n",
    "if maior == n1:\n",
    "    segundo = max(n2, n3)\n",
    "elif maior == n2:\n",
    "    segundo = max(n1, n3)\n",
    "else:\n",
    "    segundo = max(n1, n2)\n",
    "\n",
    "media = (maior + segundo) / 2\n",
    "print(\"A média dos dois maiores valores é:\", media)"
   ]
  },
  {
   "cell_type": "code",
   "execution_count": null,
   "id": "4ecf53a1-9c12-445b-b8f0-00e5f84aac9d",
   "metadata": {},
   "outputs": [],
   "source": []
  }
 ],
 "metadata": {
  "kernelspec": {
   "display_name": "Python [conda env:base] *",
   "language": "python",
   "name": "conda-base-py"
  },
  "language_info": {
   "codemirror_mode": {
    "name": "ipython",
    "version": 3
   },
   "file_extension": ".py",
   "mimetype": "text/x-python",
   "name": "python",
   "nbconvert_exporter": "python",
   "pygments_lexer": "ipython3",
   "version": "3.12.7"
  }
 },
 "nbformat": 4,
 "nbformat_minor": 5
}
